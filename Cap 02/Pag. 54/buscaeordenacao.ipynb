{
 "cells": [
  {
   "cell_type": "code",
   "execution_count": 18,
   "metadata": {},
   "outputs": [],
   "source": [
    "def buscaMenor(arr, tipo='a'):\n",
    "    menor = arr[0]\n",
    "    _indice = 0\n",
    "    for i in range(1, len(arr)):\n",
    "        if tipo == 'a':\n",
    "            if arr[i] < menor:\n",
    "                menor = arr[i]\n",
    "                _indice = i\n",
    "        elif tipo == 'd':\n",
    "            if arr[i] > menor:\n",
    "                menor = arr[i]\n",
    "                _indice = i\n",
    "        else: return None\n",
    "\n",
    "    return _indice"
   ]
  },
  {
   "cell_type": "code",
   "execution_count": 19,
   "metadata": {},
   "outputs": [],
   "source": [
    "def ordenacaoPorSelecao(arr, tipo='a'):\n",
    "    novoArr = []\n",
    "    for i in range(len(arr)):\n",
    "        menor = buscaMenor(arr, tipo)\n",
    "        if menor != None:\n",
    "            novoArr.append(arr.pop(menor))\n",
    "        else: return None\n",
    "    return novoArr"
   ]
  },
  {
   "cell_type": "code",
   "execution_count": 21,
   "metadata": {},
   "outputs": [
    {
     "data": {
      "text/plain": [
       "[-3, 2, 3, 5, 6, 10, 12, 98]"
      ]
     },
     "execution_count": 21,
     "metadata": {},
     "output_type": "execute_result"
    }
   ],
   "source": [
    "ordenacaoPorSelecao([5, 3, 12, 98, -3, 6, 2, 10], 'a')"
   ]
  },
  {
   "cell_type": "code",
   "execution_count": 22,
   "metadata": {},
   "outputs": [
    {
     "data": {
      "text/plain": [
       "[98, 12, 10, 6, 5, 3, 2, -3]"
      ]
     },
     "execution_count": 22,
     "metadata": {},
     "output_type": "execute_result"
    }
   ],
   "source": [
    "ordenacaoPorSelecao([5, 3, 12, 98, -3, 6, 2, 10], 'd')"
   ]
  },
  {
   "cell_type": "code",
   "execution_count": 25,
   "metadata": {},
   "outputs": [
    {
     "name": "stdout",
     "output_type": "stream",
     "text": [
      "None\n"
     ]
    }
   ],
   "source": [
    "print(ordenacaoPorSelecao([5, 3, 12, 98, -3, 6, 2, 10], 'f'))"
   ]
  },
  {
   "cell_type": "code",
   "execution_count": null,
   "metadata": {},
   "outputs": [],
   "source": []
  }
 ],
 "metadata": {
  "kernelspec": {
   "display_name": "Python 3",
   "language": "python",
   "name": "python3"
  },
  "language_info": {
   "codemirror_mode": {
    "name": "ipython",
    "version": 3
   },
   "file_extension": ".py",
   "mimetype": "text/x-python",
   "name": "python",
   "nbconvert_exporter": "python",
   "pygments_lexer": "ipython3",
   "version": "3.13.1"
  }
 },
 "nbformat": 4,
 "nbformat_minor": 2
}
