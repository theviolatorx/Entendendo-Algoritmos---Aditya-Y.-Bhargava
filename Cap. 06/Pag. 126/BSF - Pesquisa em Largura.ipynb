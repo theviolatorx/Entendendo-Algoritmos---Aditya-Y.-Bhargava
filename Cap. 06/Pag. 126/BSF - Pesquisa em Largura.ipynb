{
 "cells": [
  {
   "cell_type": "code",
   "execution_count": 14,
   "metadata": {},
   "outputs": [],
   "source": [
    "from collections import deque"
   ]
  },
  {
   "cell_type": "code",
   "execution_count": 15,
   "metadata": {},
   "outputs": [],
   "source": [
    "grafo = {}\n",
    "grafo['voce'] = ['alice', 'bob', 'claire']\n",
    "grafo[\"bob\"] = ['anuj', 'peggy']\n",
    "grafo[\"alice\"] = ['peggy']\n",
    "grafo[\"claire\"] = ['thom', 'jonny']\n",
    "grafo[\"anuj\"] = []\n",
    "grafo[\"peggy\"] = []\n",
    "grafo[\"thom\"] = []\n",
    "grafo[\"jonny\"] = []"
   ]
  },
  {
   "cell_type": "code",
   "execution_count": 16,
   "metadata": {},
   "outputs": [],
   "source": [
    "def pessoa_e_vendedor(nome):\n",
    "    return nome[-1] == 'm'"
   ]
  },
  {
   "cell_type": "code",
   "execution_count": 17,
   "metadata": {},
   "outputs": [],
   "source": [
    "def pesquisa(nome):\n",
    "    fila_de_pesquisa = deque()\n",
    "    fila_de_pesquisa += grafo[nome]\n",
    "    verificadas = []\n",
    "    while fila_de_pesquisa:\n",
    "        pessoa = fila_de_pesquisa.popleft()\n",
    "        if not pessoa in verificadas:\n",
    "            if pessoa_e_vendedor(pessoa):\n",
    "                print(pessoa + \" é um vendedor de manga!\")\n",
    "                return True\n",
    "            else:\n",
    "                fila_de_pesquisa += grafo[pessoa]\n",
    "                verificadas.append(pessoa)\n",
    "    return False"
   ]
  },
  {
   "cell_type": "code",
   "execution_count": 21,
   "metadata": {},
   "outputs": [
    {
     "data": {
      "text/plain": [
       "False"
      ]
     },
     "execution_count": 21,
     "metadata": {},
     "output_type": "execute_result"
    }
   ],
   "source": [
    "pesquisa(\"bob\")"
   ]
  },
  {
   "cell_type": "code",
   "execution_count": null,
   "metadata": {},
   "outputs": [],
   "source": []
  }
 ],
 "metadata": {
  "kernelspec": {
   "display_name": "Python 3",
   "language": "python",
   "name": "python3"
  },
  "language_info": {
   "codemirror_mode": {
    "name": "ipython",
    "version": 3
   },
   "file_extension": ".py",
   "mimetype": "text/x-python",
   "name": "python",
   "nbconvert_exporter": "python",
   "pygments_lexer": "ipython3",
   "version": "3.13.1"
  }
 },
 "nbformat": 4,
 "nbformat_minor": 2
}
