{
 "cells": [
  {
   "cell_type": "code",
   "execution_count": 11,
   "metadata": {},
   "outputs": [],
   "source": [
    "grafo = {}"
   ]
  },
  {
   "cell_type": "code",
   "execution_count": 12,
   "metadata": {},
   "outputs": [],
   "source": [
    "grafo['voce'] = ['alice', 'bob', 'claire']"
   ]
  },
  {
   "cell_type": "code",
   "execution_count": 13,
   "metadata": {},
   "outputs": [
    {
     "data": {
      "text/plain": [
       "{'voce': ['alice', 'bob', 'claire']}"
      ]
     },
     "execution_count": 13,
     "metadata": {},
     "output_type": "execute_result"
    }
   ],
   "source": [
    "grafo"
   ]
  },
  {
   "cell_type": "code",
   "execution_count": 14,
   "metadata": {},
   "outputs": [],
   "source": [
    "grafo[\"bob\"] = ['anuj', 'peggy']\n",
    "grafo[\"alice\"] = ['peggy']\n",
    "grafo[\"claire\"] = ['thom', 'jonny']\n",
    "grafo[\"anuj\"] = []\n",
    "grafo[\"peggy\"] = []\n",
    "grafo[\"thom\"] = []\n",
    "grafo[\"jonny\"] = []"
   ]
  },
  {
   "cell_type": "code",
   "execution_count": 15,
   "metadata": {},
   "outputs": [
    {
     "data": {
      "text/plain": [
       "{'voce': ['alice', 'bob', 'claire'],\n",
       " 'bob': ['anuj', 'peggy'],\n",
       " 'alice': ['peggy'],\n",
       " 'claire': ['thom', 'jonny'],\n",
       " 'anuj': [],\n",
       " 'peggy': [],\n",
       " 'thom': [],\n",
       " 'jonny': []}"
      ]
     },
     "execution_count": 15,
     "metadata": {},
     "output_type": "execute_result"
    }
   ],
   "source": [
    "grafo"
   ]
  },
  {
   "cell_type": "code",
   "execution_count": 16,
   "metadata": {},
   "outputs": [],
   "source": [
    "from collections import deque\n",
    "fila_de_pesquisa = deque()\n",
    "fila_de_pesquisa += grafo['voce']"
   ]
  },
  {
   "cell_type": "code",
   "execution_count": 22,
   "metadata": {},
   "outputs": [],
   "source": [
    "def pessoa_e_vendedor(nome):\n",
    "    return nome[-1] == 'x'"
   ]
  },
  {
   "cell_type": "code",
   "execution_count": 23,
   "metadata": {},
   "outputs": [],
   "source": [
    "while fila_de_pesquisa:\n",
    "    pessoa = fila_de_pesquisa.popleft()\n",
    "    if pessoa_e_vendedor(pessoa):\n",
    "        print(pessoa + \" é um vendedor de manga!\")\n",
    "    else:\n",
    "        fila_de_pesquisa += grafo[pessoa]\n"
   ]
  }
 ],
 "metadata": {
  "kernelspec": {
   "display_name": "Python 3",
   "language": "python",
   "name": "python3"
  },
  "language_info": {
   "codemirror_mode": {
    "name": "ipython",
    "version": 3
   },
   "file_extension": ".py",
   "mimetype": "text/x-python",
   "name": "python",
   "nbconvert_exporter": "python",
   "pygments_lexer": "ipython3",
   "version": "3.13.1"
  }
 },
 "nbformat": 4,
 "nbformat_minor": 2
}
